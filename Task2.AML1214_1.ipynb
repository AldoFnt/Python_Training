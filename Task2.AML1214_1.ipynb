{
 "cells": [
  {
   "cell_type": "code",
   "execution_count": 3,
   "id": "2f8a56f8",
   "metadata": {},
   "outputs": [],
   "source": [
    "import pandas as pd"
   ]
  },
  {
   "cell_type": "code",
   "execution_count": 6,
   "id": "5862185d",
   "metadata": {},
   "outputs": [],
   "source": [
    "#Declare the name"
   ]
  },
  {
   "cell_type": "code",
   "execution_count": 17,
   "id": "29b54d28",
   "metadata": {},
   "outputs": [],
   "source": [
    "Name = \"Aldo Fiorini Neto\""
   ]
  },
  {
   "cell_type": "code",
   "execution_count": 8,
   "id": "872fb498",
   "metadata": {},
   "outputs": [],
   "source": [
    "#Declare the Student Id"
   ]
  },
  {
   "cell_type": "code",
   "execution_count": 56,
   "id": "8c8ac0cf",
   "metadata": {},
   "outputs": [],
   "source": [
    "Student_Id = \"C0903395\""
   ]
  },
  {
   "cell_type": "code",
   "execution_count": 11,
   "id": "6fb88e00",
   "metadata": {},
   "outputs": [],
   "source": [
    "#Printing"
   ]
  },
  {
   "cell_type": "code",
   "execution_count": 24,
   "id": "3ec06ad0",
   "metadata": {},
   "outputs": [
    {
     "name": "stdout",
     "output_type": "stream",
     "text": [
      "Aldo Fiorini Neto : C0903395\n"
     ]
    },
    {
     "data": {
      "text/plain": [
       "'This is my Name and Student Number'"
      ]
     },
     "execution_count": 24,
     "metadata": {},
     "output_type": "execute_result"
    }
   ],
   "source": [
    "print(Name,':', Student_Id)\n",
    "'''This is my Name and Student Number'''"
   ]
  },
  {
   "cell_type": "code",
   "execution_count": 25,
   "id": "12dde5c7",
   "metadata": {},
   "outputs": [],
   "source": [
    "#Declare the Courses"
   ]
  },
  {
   "cell_type": "code",
   "execution_count": 51,
   "id": "ab3bf7bc",
   "metadata": {},
   "outputs": [],
   "source": [
    "Courses = \"AML_1114.Data Science and Machine Learning\", \"AML_1214.Python Programming\",\"AML_1301.Careers in Artificial Intelligence and Machine Learning\",\"AML_1413.Introduction to Artificial Intelligence\", \"CBD_2214.Big Data Fundamental Data Storage Networking\", \"COM_3013.Professional Communications\"\n"
   ]
  },
  {
   "cell_type": "code",
   "execution_count": 27,
   "id": "27564211",
   "metadata": {},
   "outputs": [],
   "source": [
    "#Declare the Program Name"
   ]
  },
  {
   "cell_type": "code",
   "execution_count": 34,
   "id": "4d351564",
   "metadata": {},
   "outputs": [],
   "source": [
    "Program_Name = 'Artificial Intelligence and Machine Learning'"
   ]
  },
  {
   "cell_type": "code",
   "execution_count": 35,
   "id": "fec5ceed",
   "metadata": {},
   "outputs": [],
   "source": [
    "Program_Name = PN"
   ]
  },
  {
   "cell_type": "code",
   "execution_count": 37,
   "id": "da4028e1",
   "metadata": {},
   "outputs": [],
   "source": [
    "#Printing"
   ]
  },
  {
   "cell_type": "code",
   "execution_count": 54,
   "id": "608a2510",
   "metadata": {},
   "outputs": [
    {
     "name": "stdout",
     "output_type": "stream",
     "text": [
      "Artificial Intelligence and Machine Learning \n",
      " ('AML_1114.Data Science and Machine Learning', 'AML_1214.Python Programming', 'AML_1301.Careers in Artificial Intelligence and Machine Learning', 'AML_1413.Introduction to Artificial Intelligence', 'CBD_2214.Big Data Fundamental Data Storage Networking', 'COM_3013.Professional Communications')\n"
     ]
    },
    {
     "data": {
      "text/plain": [
       "\"This are my Program Name and Courses that I'm are taking this semester\""
      ]
     },
     "execution_count": 54,
     "metadata": {},
     "output_type": "execute_result"
    }
   ],
   "source": [
    "print(PN,'\\n', Courses)\n",
    "'''This are my Program Name and Courses that I'm are taking this semester'''"
   ]
  },
  {
   "cell_type": "code",
   "execution_count": 55,
   "id": "554f4335",
   "metadata": {},
   "outputs": [],
   "source": [
    "#Printing all information together "
   ]
  },
  {
   "cell_type": "code",
   "execution_count": 59,
   "id": "0d5bf1c3",
   "metadata": {},
   "outputs": [
    {
     "name": "stdout",
     "output_type": "stream",
     "text": [
      "Aldo Fiorini Neto \n",
      " C0903395 \n",
      " \n",
      " Artificial Intelligence and Machine Learning \n",
      " \n",
      " ('AML_1114.Data Science and Machine Learning', 'AML_1214.Python Programming', 'AML_1301.Careers in Artificial Intelligence and Machine Learning', 'AML_1413.Introduction to Artificial Intelligence', 'CBD_2214.Big Data Fundamental Data Storage Networking', 'COM_3013.Professional Communications')\n"
     ]
    }
   ],
   "source": [
    "print (Name, '\\n', Student_Id, '\\n', '\\n', PN, '\\n', '\\n', Courses)\n",
    "'''This is all information together'''"
   ]
  },
  {
   "cell_type": "code",
   "execution_count": null,
   "id": "dd8bd79d",
   "metadata": {},
   "outputs": [],
   "source": []
  }
 ],
 "metadata": {
  "kernelspec": {
   "display_name": "Python 3 (ipykernel)",
   "language": "python",
   "name": "python3"
  },
  "language_info": {
   "codemirror_mode": {
    "name": "ipython",
    "version": 3
   },
   "file_extension": ".py",
   "mimetype": "text/x-python",
   "name": "python",
   "nbconvert_exporter": "python",
   "pygments_lexer": "ipython3",
   "version": "3.11.5"
  }
 },
 "nbformat": 4,
 "nbformat_minor": 5
}
